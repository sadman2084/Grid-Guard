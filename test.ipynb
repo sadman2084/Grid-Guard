{
 "cells": [
  {
   "cell_type": "code",
   "execution_count": 2,
   "id": "be5ca106",
   "metadata": {},
   "outputs": [],
   "source": [
    "\n",
    "import pandas as pd\n",
    "import numpy as np\n",
    "from sklearn.model_selection import train_test_split\n",
    "from sklearn.ensemble import RandomForestClassifier\n",
    "from sklearn.metrics import classification_report, confusion_matrix, accuracy_score\n",
    "\n",
    "\n",
    "data = pd.read_csv(\"electricity_theft_dataset_noisy.csv\")\n",
    "\n"
   ]
  },
  {
   "cell_type": "code",
   "execution_count": 3,
   "id": "670bbfe1",
   "metadata": {},
   "outputs": [
    {
     "data": {
      "text/plain": [
       "(1000, 9)"
      ]
     },
     "execution_count": 3,
     "metadata": {},
     "output_type": "execute_result"
    }
   ],
   "source": [
    "data.shape"
   ]
  },
  {
   "cell_type": "code",
   "execution_count": 4,
   "id": "9c1ce3dc",
   "metadata": {},
   "outputs": [
    {
     "data": {
      "text/plain": [
       "hourly_current       0\n",
       "hourly_voltage       0\n",
       "power_consumption    0\n",
       "delta_current        0\n",
       "delta_voltage        0\n",
       "touch_sensor         0\n",
       "month_consumption    0\n",
       "bill                 0\n",
       "theft                0\n",
       "dtype: int64"
      ]
     },
     "execution_count": 4,
     "metadata": {},
     "output_type": "execute_result"
    }
   ],
   "source": [
    "data.isnull().sum()"
   ]
  },
  {
   "cell_type": "code",
   "execution_count": 5,
   "id": "4d734ec1",
   "metadata": {},
   "outputs": [
    {
     "data": {
      "text/plain": [
       "<bound method NDFrame.describe of      hourly_current  hourly_voltage  power_consumption  delta_current  \\\n",
       "0          5.496714      226.996777        1247.736398      -0.337589   \n",
       "1          4.861736      224.623168        1092.058477      -0.072259   \n",
       "2          5.647689      220.298152        1244.175347      -0.396210   \n",
       "3          6.523030      216.765316        1413.966629      -0.153981   \n",
       "4          4.765847      223.491117        1065.124384      -0.946807   \n",
       "..              ...             ...                ...            ...   \n",
       "995        4.718900      225.350751        1063.407594       0.038740   \n",
       "996        6.797687      219.867394        1494.589620       0.128876   \n",
       "997        5.640843      215.590627        1216.112848      -0.620880   \n",
       "998        4.428821      219.184665         970.729650       0.167088   \n",
       "999        5.572583      216.275487        1205.213054      -0.077630   \n",
       "\n",
       "     delta_voltage  touch_sensor  month_consumption       bill  theft  \n",
       "0        -3.815615             0         292.494152  42.449938      0  \n",
       "1        -1.720770             0         236.799692  34.988983      0  \n",
       "2        -0.827211             1         324.309240  64.137883      1  \n",
       "3         3.775375             0         202.531412  29.088836      0  \n",
       "4         1.113106             0         197.482127  32.172941      0  \n",
       "..             ...           ...                ...        ...    ...  \n",
       "995       0.056915             0         304.731052  49.146792      0  \n",
       "996      -4.155624             0         218.722798  32.365699      1  \n",
       "997      -0.640596             0         174.671421  23.931256      0  \n",
       "998       3.286756             0         314.873103  51.681254      0  \n",
       "999       0.721296             0         306.974890  43.009926      0  \n",
       "\n",
       "[1000 rows x 9 columns]>"
      ]
     },
     "execution_count": 5,
     "metadata": {},
     "output_type": "execute_result"
    }
   ],
   "source": [
    "data.describe"
   ]
  },
  {
   "cell_type": "code",
   "execution_count": 6,
   "id": "1d6b800e",
   "metadata": {},
   "outputs": [
    {
     "data": {
      "text/html": [
       "<div>\n",
       "<style scoped>\n",
       "    .dataframe tbody tr th:only-of-type {\n",
       "        vertical-align: middle;\n",
       "    }\n",
       "\n",
       "    .dataframe tbody tr th {\n",
       "        vertical-align: top;\n",
       "    }\n",
       "\n",
       "    .dataframe thead th {\n",
       "        text-align: right;\n",
       "    }\n",
       "</style>\n",
       "<table border=\"1\" class=\"dataframe\">\n",
       "  <thead>\n",
       "    <tr style=\"text-align: right;\">\n",
       "      <th></th>\n",
       "      <th>hourly_current</th>\n",
       "      <th>hourly_voltage</th>\n",
       "      <th>power_consumption</th>\n",
       "      <th>delta_current</th>\n",
       "      <th>delta_voltage</th>\n",
       "      <th>touch_sensor</th>\n",
       "      <th>month_consumption</th>\n",
       "      <th>bill</th>\n",
       "      <th>theft</th>\n",
       "    </tr>\n",
       "  </thead>\n",
       "  <tbody>\n",
       "    <tr>\n",
       "      <th>count</th>\n",
       "      <td>1000.000000</td>\n",
       "      <td>1000.000000</td>\n",
       "      <td>1000.000000</td>\n",
       "      <td>1000.000000</td>\n",
       "      <td>1000.000000</td>\n",
       "      <td>1000.00000</td>\n",
       "      <td>1000.000000</td>\n",
       "      <td>1000.000000</td>\n",
       "      <td>1000.000000</td>\n",
       "    </tr>\n",
       "    <tr>\n",
       "      <th>mean</th>\n",
       "      <td>4.658099</td>\n",
       "      <td>208.169496</td>\n",
       "      <td>1105.833705</td>\n",
       "      <td>0.002917</td>\n",
       "      <td>-0.037438</td>\n",
       "      <td>0.06100</td>\n",
       "      <td>298.511043</td>\n",
       "      <td>44.602525</td>\n",
       "      <td>0.126000</td>\n",
       "    </tr>\n",
       "    <tr>\n",
       "      <th>std</th>\n",
       "      <td>1.889768</td>\n",
       "      <td>53.393548</td>\n",
       "      <td>216.446402</td>\n",
       "      <td>0.491727</td>\n",
       "      <td>2.054265</td>\n",
       "      <td>0.23945</td>\n",
       "      <td>49.398555</td>\n",
       "      <td>9.007849</td>\n",
       "      <td>0.332015</td>\n",
       "    </tr>\n",
       "    <tr>\n",
       "      <th>min</th>\n",
       "      <td>-4.667519</td>\n",
       "      <td>-49.094491</td>\n",
       "      <td>391.658824</td>\n",
       "      <td>-1.509756</td>\n",
       "      <td>-5.858897</td>\n",
       "      <td>0.00000</td>\n",
       "      <td>158.348485</td>\n",
       "      <td>17.587639</td>\n",
       "      <td>0.000000</td>\n",
       "    </tr>\n",
       "    <tr>\n",
       "      <th>25%</th>\n",
       "      <td>4.227129</td>\n",
       "      <td>216.470697</td>\n",
       "      <td>958.357357</td>\n",
       "      <td>-0.324000</td>\n",
       "      <td>-1.474841</td>\n",
       "      <td>0.00000</td>\n",
       "      <td>266.301039</td>\n",
       "      <td>38.761491</td>\n",
       "      <td>0.000000</td>\n",
       "    </tr>\n",
       "    <tr>\n",
       "      <th>50%</th>\n",
       "      <td>4.963270</td>\n",
       "      <td>219.897487</td>\n",
       "      <td>1108.278482</td>\n",
       "      <td>-0.000125</td>\n",
       "      <td>0.000369</td>\n",
       "      <td>0.00000</td>\n",
       "      <td>298.087891</td>\n",
       "      <td>44.391640</td>\n",
       "      <td>0.000000</td>\n",
       "    </tr>\n",
       "    <tr>\n",
       "      <th>75%</th>\n",
       "      <td>5.629361</td>\n",
       "      <td>223.363628</td>\n",
       "      <td>1249.628423</td>\n",
       "      <td>0.330458</td>\n",
       "      <td>1.333891</td>\n",
       "      <td>0.00000</td>\n",
       "      <td>331.323030</td>\n",
       "      <td>50.733339</td>\n",
       "      <td>0.000000</td>\n",
       "    </tr>\n",
       "    <tr>\n",
       "      <th>max</th>\n",
       "      <td>8.852731</td>\n",
       "      <td>235.965538</td>\n",
       "      <td>2025.043594</td>\n",
       "      <td>1.963119</td>\n",
       "      <td>6.486186</td>\n",
       "      <td>1.00000</td>\n",
       "      <td>455.645510</td>\n",
       "      <td>71.529650</td>\n",
       "      <td>1.000000</td>\n",
       "    </tr>\n",
       "  </tbody>\n",
       "</table>\n",
       "</div>"
      ],
      "text/plain": [
       "       hourly_current  hourly_voltage  power_consumption  delta_current  \\\n",
       "count     1000.000000     1000.000000        1000.000000    1000.000000   \n",
       "mean         4.658099      208.169496        1105.833705       0.002917   \n",
       "std          1.889768       53.393548         216.446402       0.491727   \n",
       "min         -4.667519      -49.094491         391.658824      -1.509756   \n",
       "25%          4.227129      216.470697         958.357357      -0.324000   \n",
       "50%          4.963270      219.897487        1108.278482      -0.000125   \n",
       "75%          5.629361      223.363628        1249.628423       0.330458   \n",
       "max          8.852731      235.965538        2025.043594       1.963119   \n",
       "\n",
       "       delta_voltage  touch_sensor  month_consumption         bill  \\\n",
       "count    1000.000000    1000.00000        1000.000000  1000.000000   \n",
       "mean       -0.037438       0.06100         298.511043    44.602525   \n",
       "std         2.054265       0.23945          49.398555     9.007849   \n",
       "min        -5.858897       0.00000         158.348485    17.587639   \n",
       "25%        -1.474841       0.00000         266.301039    38.761491   \n",
       "50%         0.000369       0.00000         298.087891    44.391640   \n",
       "75%         1.333891       0.00000         331.323030    50.733339   \n",
       "max         6.486186       1.00000         455.645510    71.529650   \n",
       "\n",
       "             theft  \n",
       "count  1000.000000  \n",
       "mean      0.126000  \n",
       "std       0.332015  \n",
       "min       0.000000  \n",
       "25%       0.000000  \n",
       "50%       0.000000  \n",
       "75%       0.000000  \n",
       "max       1.000000  "
      ]
     },
     "execution_count": 6,
     "metadata": {},
     "output_type": "execute_result"
    }
   ],
   "source": [
    "data.describe()"
   ]
  },
  {
   "cell_type": "code",
   "execution_count": 7,
   "id": "6b9b87ec",
   "metadata": {},
   "outputs": [],
   "source": [
    "features = ['hourly_current', 'hourly_voltage', 'power_consumption', 'delta_current',\n",
    "            'delta_voltage', 'touch_sensor', 'month_consumption', 'bill']\n",
    "target = 'theft'\n",
    "\n",
    "X = data[features]\n",
    "y = data[target]\n",
    "\n",
    "\n",
    "X_train, X_test, y_train, y_test = train_test_split(X, y, test_size=0.2, random_state=42)\n",
    "\n",
    "rf_model = RandomForestClassifier(n_estimators=100, random_state=42)\n",
    "\n",
    "rf_model.fit(X_train, y_train)\n",
    "\n",
    "y_pred = rf_model.predict(X_test)\n",
    "\n"
   ]
  },
  {
   "cell_type": "code",
   "execution_count": 8,
   "id": "3ae1fb6a",
   "metadata": {},
   "outputs": [
    {
     "name": "stdout",
     "output_type": "stream",
     "text": [
      "Accuracy: 0.96\n",
      "\n",
      "Confusion Matrix:\n",
      " [[180   0]\n",
      " [  8  12]]\n",
      "\n",
      "Classification Report:\n",
      "               precision    recall  f1-score   support\n",
      "\n",
      "           0       0.96      1.00      0.98       180\n",
      "           1       1.00      0.60      0.75        20\n",
      "\n",
      "    accuracy                           0.96       200\n",
      "   macro avg       0.98      0.80      0.86       200\n",
      "weighted avg       0.96      0.96      0.96       200\n",
      "\n",
      "\n",
      "Predicted Theft Status: 1\n"
     ]
    }
   ],
   "source": [
    "print(\"Accuracy:\", accuracy_score(y_test, y_pred))\n",
    "print(\"\\nConfusion Matrix:\\n\", confusion_matrix(y_test, y_pred))\n",
    "print(\"\\nClassification Report:\\n\", classification_report(y_test, y_pred))\n",
    "\n",
    "example = pd.DataFrame({\n",
    "    'hourly_current': [6.0],\n",
    "    'hourly_voltage': [225.0],\n",
    "    'power_consumption': [1350.0],\n",
    "    'delta_current': [0.5],\n",
    "    'delta_voltage': [1.0],\n",
    "    'touch_sensor': [1],\n",
    "    'month_consumption': [350.0],\n",
    "    'bill': [70.0]\n",
    "})\n",
    "predicted_class = rf_model.predict(example)\n",
    "print(\"\\nPredicted Theft Status:\", predicted_class[0])  "
   ]
  },
  {
   "cell_type": "code",
   "execution_count": null,
   "id": "f8cc22e9",
   "metadata": {},
   "outputs": [
    {
     "data": {
      "image/png": "[encoded data removed]",
      "text/plain": [
       "<Figure size 600x400 with 2 Axes>"
      ]
     },
     "metadata": {},
     "output_type": "display_data"
    },
    {
     "data": {
      "image/png": "[encoded data removed]",
      "text/plain": [
       "<Figure size 600x500 with 1 Axes>"
      ]
     },
     "metadata": {},
     "output_type": "display_data"
    }
   ],
   "source": [
    "import matplotlib.pyplot as plt\n",
    "import seaborn as sns\n",
    "\n",
    "cm = confusion_matrix(y_test, y_pred)\n",
    "plt.figure(figsize=(6,4))\n",
    "sns.heatmap(cm, annot=True, fmt='d', cmap='Blues', xticklabels=['Normal','Theft'], yticklabels=['Normal','Theft'])\n",
    "plt.title(\"Confusion Matrix\")\n",
    "plt.ylabel('Actual')\n",
    "plt.xlabel('Predicted')\n",
    "plt.show()\n",
    "\n",
    "from sklearn.metrics import roc_curve, auc\n",
    "\n",
    "y_prob = rf_model.predict_proba(X_test)[:,1]\n",
    "fpr, tpr, thresholds = roc_curve(y_test, y_prob)\n",
    "roc_auc = auc(fpr, tpr)\n",
    "\n",
    "plt.figure(figsize=(6,5))\n",
    "plt.plot(fpr, tpr, color='darkorange', lw=2, label='ROC curve (area = %0.2f)' % roc_auc)\n",
    "plt.plot([0, 1], [0, 1], color='navy', lw=2, linestyle='--')\n",
    "plt.xlim([0.0, 1.0])\n",
    "plt.ylim([0.0, 1.05])\n",
    "plt.xlabel('False Positive Rate')\n",
    "plt.ylabel('True Positive Rate')\n",
    "plt.title('Receiver Operating Characteristic (ROC)')\n",
    "plt.legend(loc=\"lower right\")\n",
    "plt.show()\n"
   ]
  },
  {
   "cell_type": "code",
   "execution_count": null,
   "id": "7b68d759",
   "metadata": {},
   "outputs": [],
   "source": []
  }
 ],
 "metadata": {
  "kernelspec": {
   "display_name": "myenv",
   "language": "python",
   "name": "python3"
  },
  "language_info": {
   "codemirror_mode": {
    "name": "ipython",
    "version": 3
   },
   "file_extension": ".py",
   "mimetype": "text/x-python",
   "name": "python",
   "nbconvert_exporter": "python",
   "pygments_lexer": "ipython3",
   "version": "3.12.10"
  }
 },
 "nbformat": 4,
 "nbformat_minor": 5
}
